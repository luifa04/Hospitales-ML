{
  "cells": [
    {
      "cell_type": "markdown",
      "metadata": {
        "id": "4WaoEOp0KkSp"
      },
      "source": [
        "![HenryLogo](https://d31uz8lwfmyn8g.cloudfront.net/Assets/logo-henry-white-lg.png)\n",
        "\n",
        "# **Proyecto integrador**\n",
        "\n",
        "### 3. Modelamiento\n",
        "\n",
        "Una vez preparados los datos, se procederá con el modelamiento. Recuerden que el objetivo es clasificar a un paciente como hospitalizado o no hospitalizado, teniendo en cuenta un data set que contiene información referente a antecedentes del paciente, morbilidad asociada al paciente y antecedentes relacionados con la toma de la biopsia y complicaciones infecciosas.\n",
        "\n",
        "\n"
      ]
    },
    {
      "cell_type": "markdown",
      "metadata": {
        "id": "E22GkymtLevx"
      },
      "source": [
        "Carguen la base de datos preparada desde la fase 2."
      ]
    },
    {
      "cell_type": "code",
      "execution_count": 1,
      "metadata": {
        "id": "dlRCMYtGLqDJ"
      },
      "outputs": [],
      "source": [
        "import numpy as np\n",
        "import matplotlib.pyplot as plt\n",
        "import pandas as pd"
      ]
    },
    {
      "cell_type": "code",
      "execution_count": 2,
      "metadata": {},
      "outputs": [],
      "source": [
        "dataset = pd.read_csv('prueba.csv')"
      ]
    },
    {
      "cell_type": "markdown",
      "metadata": {
        "id": "X33Od3Y_Lrye"
      },
      "source": [
        "Separen el dataset en X, y (variable objetivo)"
      ]
    },
    {
      "cell_type": "code",
      "execution_count": 3,
      "metadata": {
        "id": "Zjq3g_zkMUT5"
      },
      "outputs": [],
      "source": [
        "y = dataset['HOSPITALIZACION'].values  \n",
        "X = dataset.drop('HOSPITALIZACION', axis=1).values "
      ]
    },
    {
      "cell_type": "markdown",
      "metadata": {
        "id": "mTV2RdmbMoRE"
      },
      "source": [
        "Separen el dataset en X_train, X_test, y_train y y_test"
      ]
    },
    {
      "cell_type": "code",
      "execution_count": 4,
      "metadata": {
        "id": "ILzt6oOaM1ag"
      },
      "outputs": [],
      "source": [
        "from sklearn.model_selection import train_test_split \n",
        "X_train, X_test, y_train, y_test = train_test_split(X, y, test_size = 0.25, random_state = 0) "
      ]
    },
    {
      "cell_type": "markdown",
      "metadata": {
        "id": "zyQIaY1bM12g"
      },
      "source": [
        "Instancien, entrenen y predigan sobre un árbol de decisión asignando una profundidad máxima arbitraria"
      ]
    },
    {
      "cell_type": "code",
      "execution_count": 5,
      "metadata": {
        "id": "HO3Db1YQM9JS"
      },
      "outputs": [],
      "source": [
        "from sklearn.preprocessing import StandardScaler \n",
        "sc = StandardScaler() \n",
        "X_train = sc.fit_transform(X_train) \n",
        "X_test = sc.transform(X_test) "
      ]
    },
    {
      "cell_type": "code",
      "execution_count": 6,
      "metadata": {},
      "outputs": [
        {
          "data": {
            "text/html": [
              "<style>#sk-container-id-1 {color: black;}#sk-container-id-1 pre{padding: 0;}#sk-container-id-1 div.sk-toggleable {background-color: white;}#sk-container-id-1 label.sk-toggleable__label {cursor: pointer;display: block;width: 100%;margin-bottom: 0;padding: 0.3em;box-sizing: border-box;text-align: center;}#sk-container-id-1 label.sk-toggleable__label-arrow:before {content: \"▸\";float: left;margin-right: 0.25em;color: #696969;}#sk-container-id-1 label.sk-toggleable__label-arrow:hover:before {color: black;}#sk-container-id-1 div.sk-estimator:hover label.sk-toggleable__label-arrow:before {color: black;}#sk-container-id-1 div.sk-toggleable__content {max-height: 0;max-width: 0;overflow: hidden;text-align: left;background-color: #f0f8ff;}#sk-container-id-1 div.sk-toggleable__content pre {margin: 0.2em;color: black;border-radius: 0.25em;background-color: #f0f8ff;}#sk-container-id-1 input.sk-toggleable__control:checked~div.sk-toggleable__content {max-height: 200px;max-width: 100%;overflow: auto;}#sk-container-id-1 input.sk-toggleable__control:checked~label.sk-toggleable__label-arrow:before {content: \"▾\";}#sk-container-id-1 div.sk-estimator input.sk-toggleable__control:checked~label.sk-toggleable__label {background-color: #d4ebff;}#sk-container-id-1 div.sk-label input.sk-toggleable__control:checked~label.sk-toggleable__label {background-color: #d4ebff;}#sk-container-id-1 input.sk-hidden--visually {border: 0;clip: rect(1px 1px 1px 1px);clip: rect(1px, 1px, 1px, 1px);height: 1px;margin: -1px;overflow: hidden;padding: 0;position: absolute;width: 1px;}#sk-container-id-1 div.sk-estimator {font-family: monospace;background-color: #f0f8ff;border: 1px dotted black;border-radius: 0.25em;box-sizing: border-box;margin-bottom: 0.5em;}#sk-container-id-1 div.sk-estimator:hover {background-color: #d4ebff;}#sk-container-id-1 div.sk-parallel-item::after {content: \"\";width: 100%;border-bottom: 1px solid gray;flex-grow: 1;}#sk-container-id-1 div.sk-label:hover label.sk-toggleable__label {background-color: #d4ebff;}#sk-container-id-1 div.sk-serial::before {content: \"\";position: absolute;border-left: 1px solid gray;box-sizing: border-box;top: 0;bottom: 0;left: 50%;z-index: 0;}#sk-container-id-1 div.sk-serial {display: flex;flex-direction: column;align-items: center;background-color: white;padding-right: 0.2em;padding-left: 0.2em;position: relative;}#sk-container-id-1 div.sk-item {position: relative;z-index: 1;}#sk-container-id-1 div.sk-parallel {display: flex;align-items: stretch;justify-content: center;background-color: white;position: relative;}#sk-container-id-1 div.sk-item::before, #sk-container-id-1 div.sk-parallel-item::before {content: \"\";position: absolute;border-left: 1px solid gray;box-sizing: border-box;top: 0;bottom: 0;left: 50%;z-index: -1;}#sk-container-id-1 div.sk-parallel-item {display: flex;flex-direction: column;z-index: 1;position: relative;background-color: white;}#sk-container-id-1 div.sk-parallel-item:first-child::after {align-self: flex-end;width: 50%;}#sk-container-id-1 div.sk-parallel-item:last-child::after {align-self: flex-start;width: 50%;}#sk-container-id-1 div.sk-parallel-item:only-child::after {width: 0;}#sk-container-id-1 div.sk-dashed-wrapped {border: 1px dashed gray;margin: 0 0.4em 0.5em 0.4em;box-sizing: border-box;padding-bottom: 0.4em;background-color: white;}#sk-container-id-1 div.sk-label label {font-family: monospace;font-weight: bold;display: inline-block;line-height: 1.2em;}#sk-container-id-1 div.sk-label-container {text-align: center;}#sk-container-id-1 div.sk-container {/* jupyter's `normalize.less` sets `[hidden] { display: none; }` but bootstrap.min.css set `[hidden] { display: none !important; }` so we also need the `!important` here to be able to override the default hidden behavior on the sphinx rendered scikit-learn.org. See: https://github.com/scikit-learn/scikit-learn/issues/21755 */display: inline-block !important;position: relative;}#sk-container-id-1 div.sk-text-repr-fallback {display: none;}</style><div id=\"sk-container-id-1\" class=\"sk-top-container\"><div class=\"sk-text-repr-fallback\"><pre>DecisionTreeClassifier(criterion=&#x27;entropy&#x27;, max_depth=4, random_state=0)</pre><b>In a Jupyter environment, please rerun this cell to show the HTML representation or trust the notebook. <br />On GitHub, the HTML representation is unable to render, please try loading this page with nbviewer.org.</b></div><div class=\"sk-container\" hidden><div class=\"sk-item\"><div class=\"sk-estimator sk-toggleable\"><input class=\"sk-toggleable__control sk-hidden--visually\" id=\"sk-estimator-id-1\" type=\"checkbox\" checked><label for=\"sk-estimator-id-1\" class=\"sk-toggleable__label sk-toggleable__label-arrow\">DecisionTreeClassifier</label><div class=\"sk-toggleable__content\"><pre>DecisionTreeClassifier(criterion=&#x27;entropy&#x27;, max_depth=4, random_state=0)</pre></div></div></div></div></div>"
            ],
            "text/plain": [
              "DecisionTreeClassifier(criterion='entropy', max_depth=4, random_state=0)"
            ]
          },
          "execution_count": 6,
          "metadata": {},
          "output_type": "execute_result"
        }
      ],
      "source": [
        "\n",
        "from sklearn.tree import DecisionTreeClassifier \n",
        "classifier = DecisionTreeClassifier(criterion = 'entropy', random_state = 0,max_depth=4) \n",
        "classifier.fit(X_train, y_train) "
      ]
    },
    {
      "cell_type": "code",
      "execution_count": 7,
      "metadata": {},
      "outputs": [],
      "source": [
        "y_pred = classifier.predict(X_test) "
      ]
    },
    {
      "cell_type": "code",
      "execution_count": 8,
      "metadata": {},
      "outputs": [
        {
          "name": "stdout",
          "output_type": "stream",
          "text": [
            "[[0 0]\n",
            " [0 0]\n",
            " [0 0]\n",
            " [0 0]\n",
            " [0 0]\n",
            " [0 0]\n",
            " [0 0]\n",
            " [0 0]\n",
            " [0 0]\n",
            " [0 0]\n",
            " [0 0]\n",
            " [0 0]\n",
            " [0 0]\n",
            " [0 0]\n",
            " [0 0]\n",
            " [0 0]\n",
            " [0 0]\n",
            " [0 0]\n",
            " [0 0]\n",
            " [0 0]\n",
            " [0 0]\n",
            " [0 0]\n",
            " [0 0]\n",
            " [0 0]\n",
            " [0 0]\n",
            " [0 0]\n",
            " [0 0]\n",
            " [0 0]\n",
            " [0 0]\n",
            " [0 0]\n",
            " [0 0]\n",
            " [1 1]\n",
            " [0 0]\n",
            " [0 0]\n",
            " [0 0]\n",
            " [0 0]\n",
            " [0 0]\n",
            " [0 0]\n",
            " [0 0]\n",
            " [0 0]\n",
            " [0 0]\n",
            " [0 0]\n",
            " [0 0]\n",
            " [0 0]\n",
            " [0 0]\n",
            " [0 0]\n",
            " [0 0]\n",
            " [0 0]\n",
            " [0 0]\n",
            " [0 0]\n",
            " [1 1]\n",
            " [0 0]\n",
            " [0 0]\n",
            " [0 0]\n",
            " [0 0]\n",
            " [1 1]\n",
            " [0 0]\n",
            " [0 0]\n",
            " [0 0]\n",
            " [0 0]\n",
            " [0 0]\n",
            " [0 0]\n",
            " [0 0]\n",
            " [0 0]\n",
            " [0 0]\n",
            " [0 0]\n",
            " [0 0]\n",
            " [0 0]\n",
            " [0 0]\n",
            " [0 0]\n",
            " [0 0]\n",
            " [0 0]\n",
            " [0 0]\n",
            " [0 0]\n",
            " [1 1]\n",
            " [0 0]\n",
            " [0 0]\n",
            " [0 0]\n",
            " [0 0]\n",
            " [0 0]\n",
            " [0 0]\n",
            " [0 0]\n",
            " [0 0]\n",
            " [0 0]\n",
            " [0 0]\n",
            " [0 0]\n",
            " [0 0]\n",
            " [0 0]\n",
            " [0 0]\n",
            " [0 0]\n",
            " [0 0]\n",
            " [0 0]\n",
            " [0 0]\n",
            " [0 0]\n",
            " [0 0]\n",
            " [0 0]\n",
            " [0 0]\n",
            " [0 0]\n",
            " [0 0]\n",
            " [0 0]\n",
            " [0 0]\n",
            " [0 0]\n",
            " [0 0]\n",
            " [0 0]\n",
            " [0 0]\n",
            " [0 0]\n",
            " [1 1]\n",
            " [0 0]\n",
            " [0 0]\n",
            " [0 1]\n",
            " [0 0]\n",
            " [0 0]\n",
            " [0 0]\n",
            " [0 0]\n",
            " [0 0]\n",
            " [0 0]\n",
            " [0 0]\n",
            " [0 0]\n",
            " [0 0]\n",
            " [0 0]\n",
            " [0 0]\n",
            " [0 0]\n",
            " [0 0]\n",
            " [0 0]\n",
            " [0 0]\n",
            " [0 0]\n",
            " [0 0]\n",
            " [0 0]\n",
            " [0 0]\n",
            " [0 0]\n",
            " [0 0]\n",
            " [0 0]\n",
            " [0 0]\n",
            " [0 0]\n",
            " [0 0]\n",
            " [0 0]\n",
            " [0 0]\n",
            " [0 0]\n",
            " [0 0]\n",
            " [0 0]]\n"
          ]
        }
      ],
      "source": [
        "print(np.concatenate((y_pred.reshape(len(y_pred),1), y_test.reshape(len(y_test),1)),1)) "
      ]
    },
    {
      "cell_type": "markdown",
      "metadata": {
        "id": "HAZhxOMyNFON"
      },
      "source": [
        "Realicen la matriz de confusión para este modelo. Se recomienda utilizar mapa de calor para la visualización. "
      ]
    },
    {
      "cell_type": "code",
      "execution_count": 9,
      "metadata": {},
      "outputs": [
        {
          "data": {
            "image/png": "[encoded data removed]",
            "text/plain": [
              "<Figure size 800x600 with 1 Axes>"
            ]
          },
          "metadata": {},
          "output_type": "display_data"
        }
      ],
      "source": [
        "import seaborn as sns\n",
        "from sklearn.metrics import confusion_matrix, accuracy_score\n",
        "conf_matrix = confusion_matrix(y_test, y_pred)\n",
        "\n",
        "plt.figure(figsize=(8, 6))\n",
        "sns.heatmap(conf_matrix, annot=True, fmt=\"d\", cmap=\"Blues\", cbar=False, annot_kws={\"size\": 14})\n",
        "plt.title(\"Matriz de Confusión\")\n",
        "plt.xlabel(\"Predicciones\")\n",
        "plt.ylabel(\"Valores Reales\")\n",
        "plt.show()"
      ]
    },
    {
      "cell_type": "markdown",
      "metadata": {
        "id": "CmRUpq9FMcsi"
      },
      "source": [
        "Seleccione tres métricas de evaluación para este modelo de clasificación y describa el significado de cada una de ellas para el modelo creado."
      ]
    },
    {
      "cell_type": "code",
      "execution_count": 10,
      "metadata": {
        "id": "xSSe-ZHpMmdz"
      },
      "outputs": [
        {
          "name": "stdout",
          "output_type": "stream",
          "text": [
            "Matriz de Confusión:\n",
            "[[134   0]\n",
            " [  1   5]]\n",
            "\n",
            "Métricas de Evaluación:\n",
            "Precisión: 1.00\n",
            "Recall: 1.00\n",
            "F1-Score: 1.00\n",
            "Accuracy: 1.00\n"
          ]
        }
      ],
      "source": [
        "from sklearn.metrics import precision_score, recall_score, f1_score\n",
        "\n",
        "\n",
        "precision = precision_score(y_true=[0, 1], y_pred=[0, 1], labels=[0, 1])\n",
        "recall = recall_score(y_true=[0, 1], y_pred=[0, 1], labels=[0, 1])\n",
        "f1 = f1_score(y_true=[0, 1], y_pred=[0, 1], labels=[0, 1])\n",
        "accuracy = accuracy_score(y_true=[0, 1], y_pred=[0, 1])\n",
        "\n",
        "\n",
        "tn, fp, fn, tp = confusion_matrix(y_true=[0, 1], y_pred=[0, 1]).ravel()\n",
        "\n",
        "\n",
        "\n",
        "print(\"Matriz de Confusión:\")\n",
        "print(conf_matrix)\n",
        "print(\"\\nMétricas de Evaluación:\")\n",
        "print(f\"Precisión: {precision:.2f}\")\n",
        "print(f\"Recall: {recall:.2f}\")\n",
        "print(f\"F1-Score: {f1:.2f}\")\n",
        "print(f\"Accuracy: {accuracy:.2f}\")"
      ]
    },
    {
      "cell_type": "markdown",
      "metadata": {
        "id": "b_u-bC8FNTkT"
      },
      "source": [
        "Realice un diagrama de la importancia de cada variable respecto a la clasificación de la variable objetivo"
      ]
    },
    {
      "cell_type": "code",
      "execution_count": 11,
      "metadata": {
        "id": "I9w7a6dXNYPz"
      },
      "outputs": [
        {
          "data": {
            "image/png": "[encoded data removed]",
            "text/plain": [
              "<Figure size 1000x600 with 1 Axes>"
            ]
          },
          "metadata": {},
          "output_type": "display_data"
        }
      ],
      "source": [
        "# Converte X a un DataFrame\n",
        "X2=dataset.drop('HOSPITALIZACION', axis=1)\n",
        "\n",
        "\n",
        "importances = classifier.feature_importances_\n",
        "\n",
        "# Crea un DataFrame con nombres de características y sus importancias\n",
        "feature_importance_df = pd.DataFrame({'Feature': X2.columns, 'Importance': importances})\n",
        "\n",
        "# Ordena el DataFrame por importancia descendente\n",
        "feature_importance_df = feature_importance_df.sort_values(by='Importance', ascending=False)\n",
        "\n",
        "\n",
        "plt.figure(figsize=(10, 6))\n",
        "plt.bar(feature_importance_df['Feature'], feature_importance_df['Importance'])\n",
        "plt.xlabel('Variable')\n",
        "plt.ylabel('Importancia')\n",
        "plt.title('Importancia de las Variables en el Modelo')\n",
        "plt.xticks(rotation=45, ha='right')\n",
        "plt.show()"
      ]
    },
    {
      "cell_type": "markdown",
      "metadata": {
        "id": "E3k9TEhuSU9i"
      },
      "source": [
        "Encuentre cuál sería un valor óptimo para el hiperparámetro **max_depth** para el árbol de decisión. Construya un modelo con este valor y compare las métricas de evaluación respecto al modelo creado con una profundidad arbitraria. "
      ]
    },
    {
      "cell_type": "code",
      "execution_count": 12,
      "metadata": {
        "id": "CUdKvPY0S1SC"
      },
      "outputs": [
        {
          "name": "stdout",
          "output_type": "stream",
          "text": [
            "3\n"
          ]
        }
      ],
      "source": [
        "from sklearn.model_selection import  GridSearchCV\n",
        "\n",
        "# Configura la búsqueda de hiperparámetros con validación cruzada\n",
        "param_grid = {'max_depth': [1,2,3,4,5,7,10,15]} \n",
        "grid_search = GridSearchCV(classifier, param_grid, cv=5, scoring='accuracy')\n",
        "\n",
        "# Realiza la búsqueda de hiperparámetros en el conjunto de entrenamiento\n",
        "grid_search.fit(X_train, y_train)\n",
        "\n",
        "# Obtiene el mejor valor de max_depth\n",
        "best_max_depth = grid_search.best_params_['max_depth']\n",
        "\n",
        "print(best_max_depth)\n",
        "\n",
        "\n",
        "optimal_model = DecisionTreeClassifier(max_depth=best_max_depth, random_state=42)\n",
        "optimal_model.fit(X_train, y_train)\n",
        "\n",
        "y_pred_optimal = optimal_model.predict(X_test)"
      ]
    },
    {
      "cell_type": "code",
      "execution_count": 24,
      "metadata": {},
      "outputs": [
        {
          "name": "stdout",
          "output_type": "stream",
          "text": [
            "Métricas para modelo con max_depth óptimo:\n",
            "Accuracy: 0.99\n",
            "Precisión: 1.00\n",
            "Recall: 0.83\n",
            "F1-Score: 0.91\n",
            "\n",
            "Métricas para modelo con profundidad arbitraria:\n",
            "Accuracy: 0.99\n",
            "Precisión: 1.00\n",
            "Recall: 0.83\n",
            "F1-Score: 0.91\n"
          ]
        }
      ],
      "source": [
        "# Calcula métricas para ambos modelos\n",
        "accuracy_optimal = accuracy_score(y_test, y_pred_optimal)\n",
        "precision_optimal = precision_score(y_test, y_pred_optimal)\n",
        "recall_optimal = recall_score(y_test, y_pred_optimal)\n",
        "f1_optimal = f1_score(y_test, y_pred_optimal)\n",
        "\n",
        "accuracy_arbitrary = accuracy_score(y_test, y_pred)\n",
        "precision_arbitrary = precision_score(y_test, y_pred)\n",
        "recall_arbitrary = recall_score(y_test, y_pred)\n",
        "f1_arbitrary = f1_score(y_test, y_pred)\n",
        "\n",
        "\n",
        "print(\"Métricas para modelo con max_depth óptimo:\")\n",
        "print(f\"Accuracy: {accuracy_optimal:.2f}\")\n",
        "print(f\"Precisión: {precision_optimal:.2f}\")\n",
        "print(f\"Recall: {recall_optimal:.2f}\")\n",
        "print(f\"F1-Score: {f1_optimal:.2f}\")\n",
        "\n",
        "print(\"\\nMétricas para modelo con profundidad arbitraria:\")\n",
        "print(f\"Accuracy: {accuracy_arbitrary:.2f}\")\n",
        "print(f\"Precisión: {precision_arbitrary:.2f}\")\n",
        "print(f\"Recall: {recall_arbitrary:.2f}\")\n",
        "print(f\"F1-Score: {f1_arbitrary:.2f}\")"
      ]
    },
    {
      "cell_type": "markdown",
      "metadata": {
        "id": "EiqnqbBuNmmW"
      },
      "source": [
        "Instancien, entrenen y predigan sobre un modelo de k-vecinos asignando una cantidad de vecinos k-aribitraria. "
      ]
    },
    {
      "cell_type": "code",
      "execution_count": 25,
      "metadata": {
        "id": "m_n9Yfg0NmTP"
      },
      "outputs": [],
      "source": [
        "from sklearn.neighbors import KNeighborsClassifier"
      ]
    },
    {
      "cell_type": "code",
      "execution_count": 26,
      "metadata": {},
      "outputs": [
        {
          "name": "stderr",
          "output_type": "stream",
          "text": [
            "c:\\Users\\mateo\\AppData\\Local\\Programs\\Python\\Python311\\Lib\\site-packages\\joblib\\externals\\loky\\backend\\context.py:136: UserWarning: Could not find the number of physical cores for the following reason:\n",
            "found 0 physical cores < 1\n",
            "Returning the number of logical cores instead. You can silence this warning by setting LOKY_MAX_CPU_COUNT to the number of cores you want to use.\n",
            "  warnings.warn(\n",
            "  File \"c:\\Users\\mateo\\AppData\\Local\\Programs\\Python\\Python311\\Lib\\site-packages\\joblib\\externals\\loky\\backend\\context.py\", line 282, in _count_physical_cores\n",
            "    raise ValueError(f\"found {cpu_count_physical} physical cores < 1\")\n"
          ]
        },
        {
          "name": "stdout",
          "output_type": "stream",
          "text": [
            "Accuracy: 0.99\n",
            "Precisión: 1.00\n",
            "Recall: 0.67\n",
            "F1-Score: 0.80\n"
          ]
        }
      ],
      "source": [
        "k_neighbors_model = KNeighborsClassifier(n_neighbors=5)\n",
        "\n",
        "\n",
        "k_neighbors_model.fit(X_train, y_train)\n",
        "\n",
        "\n",
        "y_pred = k_neighbors_model.predict(X_test)\n",
        "\n",
        "\n",
        "accuracy = accuracy_score(y_test, y_pred)\n",
        "precision = precision_score(y_test, y_pred)\n",
        "recall = recall_score(y_test, y_pred)\n",
        "f1 = f1_score(y_test, y_pred)\n",
        "\n",
        "\n",
        "print(f\"Accuracy: {accuracy:.2f}\")\n",
        "print(f\"Precisión: {precision:.2f}\")\n",
        "print(f\"Recall: {recall:.2f}\")\n",
        "print(f\"F1-Score: {f1:.2f}\")"
      ]
    },
    {
      "cell_type": "markdown",
      "metadata": {
        "id": "kiZg1tfCS38i"
      },
      "source": [
        "Encuentre el valor óptimo para k"
      ]
    },
    {
      "cell_type": "code",
      "execution_count": 27,
      "metadata": {
        "id": "DVaNp3K9S7Os"
      },
      "outputs": [],
      "source": [
        "from sklearn.model_selection import GridSearchCV"
      ]
    },
    {
      "cell_type": "code",
      "execution_count": 28,
      "metadata": {},
      "outputs": [],
      "source": [
        "# Defino los parámetros a buscar\n",
        "param_grid = {'n_neighbors': range(1, 21)}\n",
        "\n",
        "\n",
        "grid_search = GridSearchCV(k_neighbors_model, param_grid, cv=5, scoring='accuracy')\n",
        "\n",
        "\n",
        "grid_search.fit(X_train, y_train)\n",
        "\n",
        "\n",
        "best_k = grid_search.best_params_['n_neighbors']\n",
        "\n",
        "\n",
        "optimal_k_neighbors_model = KNeighborsClassifier(n_neighbors=best_k)\n",
        "optimal_k_neighbors_model.fit(X_train, y_train)\n",
        "\n",
        "\n",
        "y_pred_optimal = optimal_k_neighbors_model.predict(X_test)"
      ]
    },
    {
      "cell_type": "markdown",
      "metadata": {
        "id": "_xXX6APsNjkV"
      },
      "source": [
        "Halle las mismas tres métricas de evaluación para este modelo de clasificación y compare los valores para el performance, respecto al árbol de decisión cuyo hiperparámetro **max_depth** se optimizó. ¿Qué puede concluir? "
      ]
    },
    {
      "cell_type": "code",
      "execution_count": 29,
      "metadata": {
        "id": "paHDdRnYN_Gl"
      },
      "outputs": [
        {
          "name": "stdout",
          "output_type": "stream",
          "text": [
            "El mejor valor de k: 2\n",
            "Accuracy para el modelo con k óptimo: 0.99\n"
          ]
        }
      ],
      "source": [
        "# Calcula la métrica de evaluación para el modelo con k óptimo\n",
        "accuracy_optimal = accuracy_score(y_test, y_pred_optimal)\n",
        "\n",
        "\n",
        "print(f\"El mejor valor de k: {best_k}\")\n",
        "print(f\"Accuracy para el modelo con k óptimo: {accuracy_optimal:.2f}\")"
      ]
    },
    {
      "cell_type": "markdown",
      "metadata": {
        "id": "JeGx2V0lTF9i"
      },
      "source": [
        "De acuerdo con lo aprendido en el módulo, ¿Cómo cree que se puede mejorar el performance de este modelo? "
      ]
    },
    {
      "cell_type": "markdown",
      "metadata": {
        "id": "lPfoiS6ZTN-4"
      },
      "source": [
        "R/"
      ]
    }
  ],
  "metadata": {
    "colab": {
      "provenance": []
    },
    "kernelspec": {
      "display_name": "Python 3",
      "language": "python",
      "name": "python3"
    },
    "language_info": {
      "codemirror_mode": {
        "name": "ipython",
        "version": 3
      },
      "file_extension": ".py",
      "mimetype": "text/x-python",
      "name": "python",
      "nbconvert_exporter": "python",
      "pygments_lexer": "ipython3",
      "version": "3.11.5"
    },
    "orig_nbformat": 4,
    "vscode": {
      "interpreter": {
        "hash": "ae0e7af47f894f9476ada5eb18ddb08363018cc3b7dc70bce08ae16d38df8604"
      }
    }
  },
  "nbformat": 4,
  "nbformat_minor": 0
}
